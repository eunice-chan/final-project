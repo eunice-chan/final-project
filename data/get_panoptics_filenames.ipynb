{
 "cells": [
  {
   "cell_type": "markdown",
   "metadata": {},
   "source": [
    "# Get Panoptics Filenames"
   ]
  },
  {
   "cell_type": "code",
   "execution_count": 1,
   "metadata": {},
   "outputs": [],
   "source": [
    "from time import sleep\n",
    "from bs4 import BeautifulSoup\n",
    "import requests"
   ]
  },
  {
   "cell_type": "code",
   "execution_count": 2,
   "metadata": {},
   "outputs": [],
   "source": [
    "site = 'http://domedb.perception.cs.cmu.edu/'\n",
    "page = requests.get(f'{site}dataset.html')\n",
    "soup = BeautifulSoup(page.content, 'html.parser')"
   ]
  },
  {
   "cell_type": "code",
   "execution_count": 3,
   "metadata": {},
   "outputs": [
    {
     "data": {
      "text/plain": [
       "['range_of_motion.html',\n",
       " 'haggling.html',\n",
       " 'ultimatum.html',\n",
       " 'mafia.html',\n",
       " 'dance.html',\n",
       " 'musical_instruments.html',\n",
       " 'toddler.html',\n",
       " 'special_events.html']"
      ]
     },
     "execution_count": 3,
     "metadata": {},
     "output_type": "execute_result"
    }
   ],
   "source": [
    "category_links = [h.findNext('a').get('href') for h in soup.find_all('h3')]\n",
    "category_links"
   ]
  },
  {
   "cell_type": "code",
   "execution_count": 4,
   "metadata": {},
   "outputs": [
    {
     "data": {
      "text/plain": [
       "110"
      ]
     },
     "execution_count": 4,
     "metadata": {},
     "output_type": "execute_result"
    }
   ],
   "source": [
    "filenames = []\n",
    "for category in category_links:\n",
    "    page = requests.get(f'{site}{category}')\n",
    "    soup = BeautifulSoup(page.content, 'html.parser')\n",
    "    filenames.extend([h.text for h in soup.find_all('h3')])\n",
    "    sleep(0.5)\n",
    "len(filenames)"
   ]
  },
  {
   "cell_type": "code",
   "execution_count": 5,
   "metadata": {},
   "outputs": [
    {
     "name": "stdout",
     "output_type": "stream",
     "text": [
      "bash ./getData 171204_pose1\n",
      "bash ./getData 171204_pose2\n",
      "bash ./getData 171204_pose3\n",
      "bash ./getData 171204_pose4\n",
      "bash ./getData 171204_pose5\n",
      "bash ./getData 171204_pose6\n",
      "bash ./getData 171026_pose1\n",
      "bash ./getData 171026_pose2\n",
      "bash ./getData 171026_pose3\n",
      "bash ./getData 161029_hands1\n",
      "bash ./getData 161029_hands2\n",
      "bash ./getData 161021_hands2\n",
      "bash ./getData 170407_haggling_a1\n",
      "bash ./getData 170407_haggling_a2\n",
      "bash ./getData 170407_haggling_a3\n",
      "bash ./getData 170407_haggling_b1\n",
      "bash ./getData 170407_haggling_b2\n",
      "bash ./getData 170407_haggling_b3\n",
      "bash ./getData 170404_haggling_a1\n",
      "bash ./getData 170404_haggling_a2\n",
      "bash ./getData 170404_haggling_a3\n",
      "bash ./getData 170404_haggling_b1\n",
      "bash ./getData 170404_haggling_b2\n",
      "bash ./getData 170404_haggling_b3\n",
      "bash ./getData 170228_haggling_a1\n",
      "bash ./getData 170228_haggling_a2\n",
      "bash ./getData 170228_haggling_a3\n",
      "bash ./getData 170228_haggling_b1\n",
      "bash ./getData 170228_haggling_b2\n",
      "bash ./getData 170228_haggling_b3\n",
      "bash ./getData 170224_haggling_a1\n",
      "bash ./getData 170224_haggling_a2\n",
      "bash ./getData 170224_haggling_a3\n",
      "bash ./getData 170224_haggling_b1\n",
      "bash ./getData 170224_haggling_b2\n",
      "bash ./getData 170224_haggling_b3\n",
      "bash ./getData 170221_haggling_m1\n",
      "bash ./getData 170221_haggling_m2\n",
      "bash ./getData 170221_haggling_m3\n",
      "bash ./getData 170221_haggling_b1\n",
      "bash ./getData 170221_haggling_b2\n",
      "bash ./getData 170221_haggling_b3\n",
      "bash ./getData 161202_haggling1\n",
      "bash ./getData 160422_haggling1\n",
      "bash ./getData 160226_haggling1\n",
      "bash ./getData 160224_haggling1\n",
      "bash ./getData 160422_ultimatum1\n",
      "bash ./getData 161202_ultimatum1\n",
      "bash ./getData 160226_ultimatum1\n",
      "bash ./getData 160224_ultimatum1\n",
      "bash ./getData 160224_ultimatum2\n",
      "bash ./getData 151125_ultimatum1\n",
      "bash ./getData 160422_mafia2\n",
      "bash ./getData 160422_mafia1\n",
      "bash ./getData 160226_mafia1\n",
      "bash ./getData 160226_mafia2\n",
      "bash ./getData 160224_mafia1\n",
      "bash ./getData 160224_mafia2\n",
      "bash ./getData 151125_mafia\n",
      "bash ./getData 150821_dance1\n",
      "bash ./getData 150821_dance2\n",
      "bash ./getData 150821_dance3\n",
      "bash ./getData 150821_dance4\n",
      "bash ./getData 150821_dance5\n",
      "bash ./getData 160317_moonbaby1\n",
      "bash ./getData 160317_moonbaby2\n",
      "bash ./getData 160317_moonbaby3\n",
      "bash ./getData 171026_cello1\n",
      "bash ./getData 171026_cello2\n",
      "bash ./getData 171026_cello3\n",
      "bash ./getData 161029_flute1\n",
      "bash ./getData 161029_piano1\n",
      "bash ./getData 161029_piano2\n",
      "bash ./getData 161029_piano3\n",
      "bash ./getData 161029_piano4\n",
      "bash ./getData 160906_band1\n",
      "bash ./getData 160906_band2\n",
      "bash ./getData 160906_band3\n",
      "bash ./getData 160906_band4\n",
      "bash ./getData 150406_drum3\n",
      "bash ./getData 150406_drum4\n",
      "bash ./getData 150406_drum5\n",
      "bash ./getData 150406_drum6\n",
      "bash ./getData 150406_drum7\n",
      "bash ./getData 150303_celloScene1\n",
      "bash ./getData 150303_celloScene2\n",
      "bash ./getData 150303_celloScene3\n",
      "bash ./getData 150303_celloScene4\n",
      "bash ./getData 150209_celloCapture1\n",
      "bash ./getData 150209_celloCapture2\n",
      "bash ./getData 160906_ian5\n",
      "bash ./getData 160906_ian3\n",
      "bash ./getData 160906_ian2\n",
      "bash ./getData 160906_ian1\n",
      "bash ./getData 160401_ian3\n",
      "bash ./getData 160401_ian2\n",
      "bash ./getData 160401_ian1\n",
      "bash ./getData 170915_toddler3\n",
      "bash ./getData 170915_toddler4\n",
      "bash ./getData 170915_toddler5\n",
      "bash ./getData 170915_office1\n",
      "bash ./getData 170407_office2\n",
      "bash ./getData 161029_tools1\n",
      "bash ./getData 161029_build1\n",
      "bash ./getData 161029_sports1\n",
      "bash ./getData 161029_car1\n",
      "bash ./getData 160906_pizza1\n",
      "bash ./getData 160317_meeting1\n",
      "bash ./getData 151125_bang\n",
      "bash ./getData 150129_007game\n"
     ]
    }
   ],
   "source": [
    "for f in filenames:\n",
    "    print(f'bash ./getData {f}')"
   ]
  },
  {
   "cell_type": "code",
   "execution_count": null,
   "metadata": {},
   "outputs": [],
   "source": []
  }
 ],
 "metadata": {
  "kernelspec": {
   "display_name": "Python 3",
   "language": "python",
   "name": "python3"
  },
  "language_info": {
   "codemirror_mode": {
    "name": "ipython",
    "version": 3
   },
   "file_extension": ".py",
   "mimetype": "text/x-python",
   "name": "python",
   "nbconvert_exporter": "python",
   "pygments_lexer": "ipython3",
   "version": "3.7.4"
  }
 },
 "nbformat": 4,
 "nbformat_minor": 4
}
